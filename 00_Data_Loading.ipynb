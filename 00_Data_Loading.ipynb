{
 "cells": [
  {
   "cell_type": "markdown",
   "id": "7f11d0fd",
   "metadata": {},
   "source": [
    "# DATA LOADING"
   ]
  },
  {
   "cell_type": "code",
   "execution_count": null,
   "id": "ca70e10d",
   "metadata": {},
   "outputs": [],
   "source": [
    "#imports for the notebook\n",
    "import requests\n",
    "import os\n",
    "import json\n",
    "import time"
   ]
  },
  {
   "cell_type": "markdown",
   "id": "dee4f8ec",
   "metadata": {},
   "source": [
    "## Data Collection - During Season"
   ]
  },
  {
   "cell_type": "markdown",
   "id": "b119f20c",
   "metadata": {},
   "source": [
    "### Set-Up"
   ]
  },
  {
   "cell_type": "code",
   "execution_count": 14,
   "id": "e6883fbd",
   "metadata": {},
   "outputs": [],
   "source": [
    "#FPL API\n",
    "data_url = \"https://fantasy.premierleague.com/api/\"\n",
    "\n",
    "#Create Directory for Data\n",
    "data_dir = \"raw_data\"\n",
    "os.makedirs(data_dir, exist_ok=True)"
   ]
  },
  {
   "cell_type": "code",
   "execution_count": 21,
   "id": "d834b476",
   "metadata": {},
   "outputs": [],
   "source": [
    "#Fetch & Save Data\n",
    "def get_save_data(url, filename, subdir = None):\n",
    "    \n",
    "    if subdir:\n",
    "        full_dir = os.path.join(data_dir, subdir)\n",
    "        os.makedirs(full_dir, exist_ok = True)\n",
    "        filepath = os.path.join(full_dir, filename)\n",
    "    else:\n",
    "        filepath = os.path.join(data_dir, filename) \n",
    "\n",
    "    print(f\"Fetching data from: {url}\")\n",
    "\n",
    "    try:\n",
    "        response = requests.get(url)\n",
    "        response.raise_for_status()\n",
    "        data = response.json()\n",
    "\n",
    "        with open(filepath, 'w', encoding = \"utf-8\") as f:\n",
    "            json.dump(data, f, indent = 5)\n",
    "        print(f\"Data saved to: {filepath}\")\n",
    "        return data\n",
    "    except Exception as e:\n",
    "        print(f\"Error occurred at {url}: {e}\")\n",
    "        return None\n",
    "    finally:\n",
    "        time.sleep(1)"
   ]
  },
  {
   "cell_type": "code",
   "execution_count": null,
   "id": "a0236fab",
   "metadata": {},
   "outputs": [
    {
     "name": "stdout",
     "output_type": "stream",
     "text": [
      "Fetching data from: https://fantasy.premierleague.com/api/bootstrap-static/\n",
      "Data saved to: raw_data/season_data_24_25.json\n",
      "Saved\n"
     ]
    }
   ],
   "source": [
    "#Collect Season Data\n",
    "static_data = get_save_data(f\"{data_url}bootstrap-static/\", \"static_data.json\", )\n",
    "\n",
    "if static_data:\n",
    "    print(\"Saved\")\n",
    "else:\n",
    "    print(\"Error getting data\")"
   ]
  },
  {
   "cell_type": "code",
   "execution_count": null,
   "id": "eb820e62",
   "metadata": {},
   "outputs": [
    {
     "name": "stdout",
     "output_type": "stream",
     "text": [
      "Found 804 players\n",
      "Fetching data from: https://fantasy.premierleague.com/api/element-summary/1/\n",
      "Data saved to: raw_data/player_details/player_1_details.json\n",
      "Fetching data from: https://fantasy.premierleague.com/api/element-summary/2/\n",
      "Data saved to: raw_data/player_details/player_2_details.json\n",
      "Fetching data from: https://fantasy.premierleague.com/api/element-summary/3/\n",
      "Data saved to: raw_data/player_details/player_3_details.json\n",
      "Fetching data from: https://fantasy.premierleague.com/api/element-summary/4/\n",
      "Data saved to: raw_data/player_details/player_4_details.json\n",
      "Fetching data from: https://fantasy.premierleague.com/api/element-summary/5/\n",
      "Data saved to: raw_data/player_details/player_5_details.json\n",
      "Fetching data from: https://fantasy.premierleague.com/api/element-summary/6/\n",
      "Data saved to: raw_data/player_details/player_6_details.json\n",
      "Fetching data from: https://fantasy.premierleague.com/api/element-summary/7/\n",
      "Data saved to: raw_data/player_details/player_7_details.json\n",
      "Fetching data from: https://fantasy.premierleague.com/api/element-summary/8/\n",
      "Data saved to: raw_data/player_details/player_8_details.json\n",
      "Fetching data from: https://fantasy.premierleague.com/api/element-summary/9/\n",
      "Data saved to: raw_data/player_details/player_9_details.json\n",
      "Fetching data from: https://fantasy.premierleague.com/api/element-summary/12/\n",
      "Data saved to: raw_data/player_details/player_12_details.json\n",
      "Fetching data from: https://fantasy.premierleague.com/api/element-summary/13/\n",
      "Data saved to: raw_data/player_details/player_13_details.json\n",
      "Fetching data from: https://fantasy.premierleague.com/api/element-summary/15/\n",
      "Data saved to: raw_data/player_details/player_15_details.json\n",
      "Fetching data from: https://fantasy.premierleague.com/api/element-summary/16/\n",
      "Data saved to: raw_data/player_details/player_16_details.json\n",
      "Fetching data from: https://fantasy.premierleague.com/api/element-summary/17/\n",
      "Data saved to: raw_data/player_details/player_17_details.json\n",
      "Fetching data from: https://fantasy.premierleague.com/api/element-summary/18/\n",
      "Data saved to: raw_data/player_details/player_18_details.json\n",
      "Fetching data from: https://fantasy.premierleague.com/api/element-summary/20/\n",
      "Data saved to: raw_data/player_details/player_20_details.json\n",
      "Fetching data from: https://fantasy.premierleague.com/api/element-summary/21/\n",
      "Data saved to: raw_data/player_details/player_21_details.json\n",
      "Fetching data from: https://fantasy.premierleague.com/api/element-summary/22/\n",
      "Data saved to: raw_data/player_details/player_22_details.json\n",
      "Fetching data from: https://fantasy.premierleague.com/api/element-summary/23/\n",
      "Data saved to: raw_data/player_details/player_23_details.json\n",
      "Fetching data from: https://fantasy.premierleague.com/api/element-summary/24/\n",
      "Data saved to: raw_data/player_details/player_24_details.json\n",
      "Fetching data from: https://fantasy.premierleague.com/api/element-summary/25/\n",
      "Data saved to: raw_data/player_details/player_25_details.json\n",
      "Fetching data from: https://fantasy.premierleague.com/api/element-summary/73/\n",
      "Data saved to: raw_data/player_details/player_73_details.json\n",
      "Fetching data from: https://fantasy.premierleague.com/api/element-summary/186/\n",
      "Data saved to: raw_data/player_details/player_186_details.json\n",
      "Fetching data from: https://fantasy.premierleague.com/api/element-summary/578/\n",
      "Data saved to: raw_data/player_details/player_578_details.json\n",
      "Fetching data from: https://fantasy.premierleague.com/api/element-summary/597/\n",
      "Data saved to: raw_data/player_details/player_597_details.json\n",
      "Fetching data from: https://fantasy.premierleague.com/api/element-summary/633/\n",
      "Data saved to: raw_data/player_details/player_633_details.json\n",
      "Fetching data from: https://fantasy.premierleague.com/api/element-summary/638/\n",
      "Data saved to: raw_data/player_details/player_638_details.json\n",
      "Fetching data from: https://fantasy.premierleague.com/api/element-summary/639/\n",
      "Data saved to: raw_data/player_details/player_639_details.json\n",
      "Fetching data from: https://fantasy.premierleague.com/api/element-summary/657/\n",
      "Data saved to: raw_data/player_details/player_657_details.json\n",
      "Fetching data from: https://fantasy.premierleague.com/api/element-summary/659/\n",
      "Data saved to: raw_data/player_details/player_659_details.json\n",
      "Fetching data from: https://fantasy.premierleague.com/api/element-summary/662/\n",
      "Data saved to: raw_data/player_details/player_662_details.json\n",
      "Fetching data from: https://fantasy.premierleague.com/api/element-summary/665/\n",
      "Data saved to: raw_data/player_details/player_665_details.json\n",
      "Fetching data from: https://fantasy.premierleague.com/api/element-summary/735/\n",
      "Data saved to: raw_data/player_details/player_735_details.json\n",
      "Fetching data from: https://fantasy.premierleague.com/api/element-summary/756/\n",
      "Data saved to: raw_data/player_details/player_756_details.json\n",
      "Fetching data from: https://fantasy.premierleague.com/api/element-summary/790/\n",
      "Data saved to: raw_data/player_details/player_790_details.json\n",
      "Fetching data from: https://fantasy.premierleague.com/api/element-summary/793/\n",
      "Data saved to: raw_data/player_details/player_793_details.json\n",
      "Fetching data from: https://fantasy.premierleague.com/api/element-summary/801/\n",
      "Data saved to: raw_data/player_details/player_801_details.json\n",
      "Fetching data from: https://fantasy.premierleague.com/api/element-summary/28/\n",
      "Data saved to: raw_data/player_details/player_28_details.json\n",
      "Fetching data from: https://fantasy.premierleague.com/api/element-summary/29/\n",
      "Data saved to: raw_data/player_details/player_29_details.json\n",
      "Fetching data from: https://fantasy.premierleague.com/api/element-summary/30/\n",
      "Data saved to: raw_data/player_details/player_30_details.json\n",
      "Fetching data from: https://fantasy.premierleague.com/api/element-summary/31/\n",
      "Data saved to: raw_data/player_details/player_31_details.json\n",
      "Fetching data from: https://fantasy.premierleague.com/api/element-summary/32/\n",
      "Data saved to: raw_data/player_details/player_32_details.json\n",
      "Fetching data from: https://fantasy.premierleague.com/api/element-summary/33/\n",
      "Data saved to: raw_data/player_details/player_33_details.json\n",
      "Fetching data from: https://fantasy.premierleague.com/api/element-summary/34/\n",
      "Data saved to: raw_data/player_details/player_34_details.json\n",
      "Fetching data from: https://fantasy.premierleague.com/api/element-summary/35/\n",
      "Data saved to: raw_data/player_details/player_35_details.json\n",
      "Fetching data from: https://fantasy.premierleague.com/api/element-summary/36/\n",
      "Data saved to: raw_data/player_details/player_36_details.json\n",
      "Fetching data from: https://fantasy.premierleague.com/api/element-summary/37/\n",
      "Data saved to: raw_data/player_details/player_37_details.json\n",
      "Fetching data from: https://fantasy.premierleague.com/api/element-summary/38/\n",
      "Data saved to: raw_data/player_details/player_38_details.json\n",
      "Fetching data from: https://fantasy.premierleague.com/api/element-summary/39/\n",
      "Data saved to: raw_data/player_details/player_39_details.json\n",
      "Fetching data from: https://fantasy.premierleague.com/api/element-summary/40/\n",
      "Data saved to: raw_data/player_details/player_40_details.json\n",
      "\n",
      "Collected Details for 50 players\n"
     ]
    }
   ],
   "source": [
    "#Collect Player Details\n",
    "if static_data:\n",
    "    all_player_ids = [player['id'] for player in static_data.get('elements', [])]\n",
    "    print(f\"Found {len(all_player_ids)} players\")\n",
    "\n",
    "    #players_to_collect = all_player_ids\n",
    "    players_to_collect = all_player_ids[:50] #smaller sample to limit dwnld times. swap comments to dwnld full set.\n",
    "\n",
    "    collect_count = 0\n",
    "    for player_id in players_to_collect:\n",
    "        filename = f\"player_{player_id}_details.json\"\n",
    "        player_data = get_save_data(f\"{data_url}element-summary/{player_id}/\", filename, subdir = \"player_details\")\n",
    "        if player_data:\n",
    "            collect_count += 1\n",
    "        time.sleep(0.1)\n",
    "    print(f\"\\nCollected Details for {collect_count} players\")\n",
    "else:\n",
    "    print(\"No data was collected\")\n",
    "    "
   ]
  }
 ],
 "metadata": {
  "kernelspec": {
   "display_name": ".venv",
   "language": "python",
   "name": "python3"
  },
  "language_info": {
   "codemirror_mode": {
    "name": "ipython",
    "version": 3
   },
   "file_extension": ".py",
   "mimetype": "text/x-python",
   "name": "python",
   "nbconvert_exporter": "python",
   "pygments_lexer": "ipython3",
   "version": "3.13.3"
  }
 },
 "nbformat": 4,
 "nbformat_minor": 5
}
